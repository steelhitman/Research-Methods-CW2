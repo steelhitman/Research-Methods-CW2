{
 "cells": [
  {
   "cell_type": "code",
   "execution_count": 1,
   "metadata": {},
   "outputs": [],
   "source": [
    "import pandas as pd\n",
    "import numpy as np"
   ]
  },
  {
   "cell_type": "code",
   "execution_count": 2,
   "metadata": {},
   "outputs": [
    {
     "name": "stderr",
     "output_type": "stream",
     "text": [
      "C:\\Users\\prash\\AppData\\Local\\Temp\\ipykernel_38496\\2276471944.py:1: DtypeWarning: Columns (6,7) have mixed types. Specify dtype option on import or set low_memory=False.\n",
      "  df_norway = pd.read_csv('D:\\\\Course\\\\Research Methods\\\\Coursework 2\\\\NORdeath.csv')\n",
      "C:\\Users\\prash\\AppData\\Local\\Temp\\ipykernel_38496\\2276471944.py:2: DtypeWarning: Columns (4) have mixed types. Specify dtype option on import or set low_memory=False.\n",
      "  df_norway_pop = pd.read_csv(\"D:\\\\Course\\\\Research Methods\\\\Coursework 2\\\\norway_pop.csv\")\n",
      "C:\\Users\\prash\\AppData\\Local\\Temp\\ipykernel_38496\\2276471944.py:11: DtypeWarning: Columns (2,3) have mixed types. Specify dtype option on import or set low_memory=False.\n",
      "  df_japan = pd.read_csv('D:\\\\Course\\\\Research Methods\\\\Coursework 2\\\\JPNdeath.csv')\n"
     ]
    }
   ],
   "source": [
    "df_norway = pd.read_csv('D:\\\\Course\\\\Research Methods\\\\Coursework 2\\\\NORdeath.csv')\n",
    "df_norway_pop = pd.read_csv(\"D:\\\\Course\\\\Research Methods\\\\Coursework 2\\\\norway_pop.csv\")\n",
    "\n",
    "df_portugal_pop = pd.read_csv(\"D:\\\\Course\\\\Research Methods\\\\Coursework 2\\\\portugal_pop.csv\")\n",
    "df_portugal = pd.read_csv('D:\\\\Course\\\\Research Methods\\\\Coursework 2\\\\PRTdeaths.csv')"
   ]
  },
  {
   "cell_type": "code",
   "execution_count": 6,
   "metadata": {},
   "outputs": [],
   "source": [
    "df_norway.drop(['Area','YearReg','YearInterval','AgeInterval','Lexis','RefCode','Access','LDB','NoteCode1','NoteCode2','NoteCode3'], inplace = True, axis = 1)\n",
    "df_portugal.drop(['Area','YearReg','YearInterval','AgeInterval','Lexis','RefCode','Access','LDB','NoteCode1','NoteCode2','NoteCode3'], inplace = True, axis = 1)"
   ]
  },
  {
   "cell_type": "code",
   "execution_count": 7,
   "metadata": {},
   "outputs": [],
   "source": [
    "df_portugal_pop.drop(['Area','Age','AgeInterval','Type','Day','Month','RefCode','Access','NoteCode1','NoteCode2','NoteCode3','LDB'], inplace = True, axis = 1)\n",
    "df_norway_pop.drop(['Area','Age','AgeInterval','Type','Day','Month','RefCode','Access','NoteCode1','NoteCode2','NoteCode3','LDB'], inplace = True, axis = 1)"
   ]
  },
  {
   "cell_type": "code",
   "execution_count": 8,
   "metadata": {},
   "outputs": [],
   "source": [
    "df_norway.replace([np.inf, -np.inf], np.nan, inplace=True)\n",
    "df_norway.replace(['UNK'], np.nan, inplace=True)\n",
    "df_norway.dropna(inplace=True)"
   ]
  },
  {
   "cell_type": "code",
   "execution_count": 9,
   "metadata": {},
   "outputs": [],
   "source": [
    "df_portugal.replace([np.inf, -np.inf], np.nan, inplace=True)\n",
    "df_portugal.replace(['UNK'], np.nan, inplace=True)\n",
    "df_portugal.dropna(inplace = True)"
   ]
  },
  {
   "cell_type": "code",
   "execution_count": 10,
   "metadata": {},
   "outputs": [],
   "source": []
  },
  {
   "cell_type": "code",
   "execution_count": 11,
   "metadata": {},
   "outputs": [],
   "source": []
  },
  {
   "cell_type": "code",
   "execution_count": 12,
   "metadata": {},
   "outputs": [],
   "source": [
    "df_norway_pop.replace([np.inf, -np.inf], np.nan, inplace=True)\n",
    "df_norway_pop.replace(['UNK'], np.nan, inplace=True)\n",
    "df_norway_pop.dropna(inplace=True)\n",
    "\n",
    "df_portugal_pop.replace([np.inf, -np.inf], np.nan, inplace=True)\n",
    "df_portugal_pop.replace(['UNK'], np.nan, inplace=True)\n",
    "df_portugal_pop.dropna(inplace=True)"
   ]
  },
  {
   "cell_type": "code",
   "execution_count": 19,
   "metadata": {},
   "outputs": [],
   "source": [
    "df_portugal.drop(df_portugal[df_portugal['Sex'] == 'm'].index, inplace=True)\n",
    "df_norway.drop(df_portugal[df_portugal['Sex'] == 'm'].index, inplace=True)"
   ]
  },
  {
   "cell_type": "code",
   "execution_count": 20,
   "metadata": {},
   "outputs": [],
   "source": [
    "df_portugal_pop.drop(df_portugal_pop[df_portugal_pop['Sex'] == 'm'].index, inplace=True)\n",
    "df_norway_pop.drop(df_portugal_pop[df_portugal_pop['Sex'] == 'm'].index, inplace=True)\n"
   ]
  },
  {
   "cell_type": "code",
   "execution_count": 21,
   "metadata": {},
   "outputs": [],
   "source": [
    "df_portugal = df_portugal.groupby(['Year', 'PopName'])['Deaths'].sum()\n",
    "df_norway = df_norway.groupby(['Year', 'PopName'])['Deaths'].sum()\n"
   ]
  },
  {
   "cell_type": "code",
   "execution_count": 22,
   "metadata": {},
   "outputs": [
    {
     "data": {
      "text/plain": [
       "Index(['PopName', 'Sex', 'Year', 'Population'], dtype='object')"
      ]
     },
     "execution_count": 22,
     "metadata": {},
     "output_type": "execute_result"
    }
   ],
   "source": [
    "df_portugal_pop.columns"
   ]
  },
  {
   "cell_type": "code",
   "execution_count": 23,
   "metadata": {},
   "outputs": [],
   "source": [
    "df_portugal_pop.drop(df_portugal_pop[df_portugal_pop['Sex'] == 'm'].index, inplace=True)\n",
    "df_norway_pop.drop(df_portugal_pop[df_portugal_pop['Sex'] == 'm'].index, inplace=True)\n"
   ]
  },
  {
   "cell_type": "code",
   "execution_count": 24,
   "metadata": {},
   "outputs": [
    {
     "name": "stderr",
     "output_type": "stream",
     "text": [
      "C:\\Users\\prash\\AppData\\Local\\Temp\\ipykernel_38496\\2041193465.py:1: FutureWarning: The default value of numeric_only in DataFrameGroupBy.sum is deprecated. In a future version, numeric_only will default to False. Either specify numeric_only or select only columns which should be valid for the function.\n",
      "  df_portugal_pop = df_portugal_pop.groupby(['Year']).sum()\n",
      "C:\\Users\\prash\\AppData\\Local\\Temp\\ipykernel_38496\\2041193465.py:2: FutureWarning: The default value of numeric_only in DataFrameGroupBy.sum is deprecated. In a future version, numeric_only will default to False. Either specify numeric_only or select only columns which should be valid for the function.\n",
      "  df_norway_pop = df_norway_pop.groupby(['Year']).sum()\n",
      "C:\\Users\\prash\\AppData\\Local\\Temp\\ipykernel_38496\\2041193465.py:3: FutureWarning: The default value of numeric_only in DataFrameGroupBy.sum is deprecated. In a future version, numeric_only will default to False. Either specify numeric_only or select only columns which should be valid for the function.\n",
      "  df_usa_pop = df_usa_pop.groupby(['Year']).sum()\n",
      "C:\\Users\\prash\\AppData\\Local\\Temp\\ipykernel_38496\\2041193465.py:4: FutureWarning: The default value of numeric_only in DataFrameGroupBy.sum is deprecated. In a future version, numeric_only will default to False. Either specify numeric_only or select only columns which should be valid for the function.\n",
      "  df_japan_pop = df_japan_pop.groupby(['Year']).sum()\n"
     ]
    }
   ],
   "source": [
    "df_portugal_pop = df_portugal_pop.groupby(['Year']).sum()\n",
    "df_norway_pop = df_norway_pop.groupby(['Year']).sum()\n"
   ]
  },
  {
   "cell_type": "code",
   "execution_count": 28,
   "metadata": {},
   "outputs": [],
   "source": [
    "df_norway = pd.DataFrame(df_norway).reset_index()\n",
    "df_portugal = pd.DataFrame(df_portugal).reset_index()\n"
   ]
  },
  {
   "cell_type": "code",
   "execution_count": 29,
   "metadata": {},
   "outputs": [],
   "source": [
    "df_norway_pop = pd.DataFrame(df_norway_pop).reset_index()\n",
    "df_portugal_pop = pd.DataFrame(df_portugal_pop).reset_index()\n"
   ]
  },
  {
   "cell_type": "code",
   "execution_count": 34,
   "metadata": {},
   "outputs": [],
   "source": [
    "df_norway.rename({'Deaths' : 'Deaths_norway'}, inplace = True, axis = 1)\n",
    "df_portugal.rename({'Deaths' : 'Deaths_portugal'}, inplace=True, axis=1)\n"
   ]
  },
  {
   "cell_type": "code",
   "execution_count": 37,
   "metadata": {},
   "outputs": [],
   "source": [
    "merged_norway_portugal = pd.DataFrame()\n",
    "merged_norway_portugal = df_portugal\n",
    "merged_norway_portugal = merged_norway_portugal.merge(df_norway, how='inner', left_on='Year', right_on='Year')\n"
   ]
  },
  {
   "cell_type": "code",
   "execution_count": 42,
   "metadata": {},
   "outputs": [],
   "source": [
    "df_norway.to_csv('Norway.csv')\n",
    "df_portugal.to_csv('Portugal.csv')\n",
    "\n"
   ]
  },
  {
   "cell_type": "code",
   "execution_count": 43,
   "metadata": {},
   "outputs": [],
   "source": [
    "df_norway_pop.to_csv('Norway_population.csv')\n",
    "df_portugal_pop.to_csv('Portugal_population.csv')\n"
   ]
  },
  {
   "cell_type": "code",
   "execution_count": 44,
   "metadata": {},
   "outputs": [],
   "source": [
    "merged_norway_portugal.to_excel('portugal_norway.xlsx')\n"
   ]
  }
 ],
 "metadata": {
  "kernelspec": {
   "display_name": "Python 3",
   "language": "python",
   "name": "python3"
  },
  "language_info": {
   "codemirror_mode": {
    "name": "ipython",
    "version": 3
   },
   "file_extension": ".py",
   "mimetype": "text/x-python",
   "name": "python",
   "nbconvert_exporter": "python",
   "pygments_lexer": "ipython3",
   "version": "3.10.6"
  },
  "orig_nbformat": 4
 },
 "nbformat": 4,
 "nbformat_minor": 2
}
